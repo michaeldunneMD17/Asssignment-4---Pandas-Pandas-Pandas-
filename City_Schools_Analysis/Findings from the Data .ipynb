{
 "cells": [
  {
   "cell_type": "markdown",
   "id": "faed0301",
   "metadata": {},
   "source": [
    "# Findings from the Data.txt \n",
    "- Of the 15 schools - Charter schools have higher passing score percentages % than Distict schools\n",
    "\n",
    "- Of 39,170 students across the 15 schools - the overall passing rate was 80.431606%\n",
    "\n",
    "- The larger the school, the lower the passing rate % was: Small: 93.712801% , Medium: 93.656899% , Large: 69.988051%.  Possibly highlighting the importance of - Teacher: Student ratios\n",
    "\n",
    "- Per Student Budget did not correlate in higher overall passing rates. High schools who spent more per student did not achieve higher passing rates.\n",
    "\n",
    "- Percentage of overall passing rates per students across the 15 schools were either between: 65-69% or 92-95% , with no in between values."
   ]
  }
 ],
 "metadata": {
  "kernelspec": {
   "display_name": "Python 3 (ipykernel)",
   "language": "python",
   "name": "python3"
  },
  "language_info": {
   "codemirror_mode": {
    "name": "ipython",
    "version": 3
   },
   "file_extension": ".py",
   "mimetype": "text/x-python",
   "name": "python",
   "nbconvert_exporter": "python",
   "pygments_lexer": "ipython3",
   "version": "3.9.7"
  }
 },
 "nbformat": 4,
 "nbformat_minor": 5
}
